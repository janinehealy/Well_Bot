{
 "cells": [
  {
   "cell_type": "code",
   "execution_count": 12,
   "id": "fd04bca8",
   "metadata": {},
   "outputs": [
    {
     "name": "stdout",
     "output_type": "stream",
     "text": [
      "Hi there, my name is Well Bot. \n",
      "My job is to tell people general facts about mental health and different types of mental illnesses. \n",
      "What can I teach you about today? \n",
      "[a] Facts about mental health \n",
      "[b] Types of mental illnesses \n",
      "[c] Enter X to exit \n",
      " x\n",
      "For more information, visit mind.org.uk or if you feel like you need help, please contact your GP. \n"
     ]
    },
    {
     "ename": "TypeError",
     "evalue": "'NoneType' object is not an iterator",
     "output_type": "error",
     "traceback": [
      "\u001b[0;31m---------------------------------------------------------------------------\u001b[0m",
      "\u001b[0;31mTypeError\u001b[0m                                 Traceback (most recent call last)",
      "Input \u001b[0;32mIn [12]\u001b[0m, in \u001b[0;36m<cell line: 67>\u001b[0;34m()\u001b[0m\n\u001b[1;32m     64\u001b[0m     asking_loop(line_generator)\n\u001b[1;32m     67\u001b[0m \u001b[38;5;28;01mif\u001b[39;00m \u001b[38;5;18m__name__\u001b[39m \u001b[38;5;241m==\u001b[39m \u001b[38;5;124m\"\u001b[39m\u001b[38;5;124m__main__\u001b[39m\u001b[38;5;124m\"\u001b[39m:\n\u001b[0;32m---> 68\u001b[0m     \u001b[43mmain\u001b[49m\u001b[43m(\u001b[49m\u001b[43m)\u001b[49m\n",
      "Input \u001b[0;32mIn [12]\u001b[0m, in \u001b[0;36mmain\u001b[0;34m()\u001b[0m\n\u001b[1;32m     62\u001b[0m \u001b[38;5;28mprint\u001b[39m(\u001b[38;5;124m\"\u001b[39m\u001b[38;5;124mMy job is to tell people general facts about mental health and different types of mental illnesses. \u001b[39m\u001b[38;5;124m\"\u001b[39m)\n\u001b[1;32m     63\u001b[0m line_generator \u001b[38;5;241m=\u001b[39m choose_argument()\n\u001b[0;32m---> 64\u001b[0m \u001b[43masking_loop\u001b[49m\u001b[43m(\u001b[49m\u001b[43mline_generator\u001b[49m\u001b[43m)\u001b[49m\n",
      "Input \u001b[0;32mIn [12]\u001b[0m, in \u001b[0;36masking_loop\u001b[0;34m(line_generator)\u001b[0m\n\u001b[1;32m     26\u001b[0m \u001b[38;5;28;01mdef\u001b[39;00m \u001b[38;5;21masking_loop\u001b[39m(line_generator):\n\u001b[1;32m     27\u001b[0m     \u001b[38;5;66;03m# Looping the lines asking the user at each step\u001b[39;00m\n\u001b[1;32m     28\u001b[0m     \u001b[38;5;66;03m# Get the first line from the generator\u001b[39;00m\n\u001b[0;32m---> 29\u001b[0m     \u001b[38;5;28mprint\u001b[39m(\u001b[38;5;28;43mnext\u001b[39;49m\u001b[43m(\u001b[49m\u001b[43mline_generator\u001b[49m\u001b[43m)\u001b[49m)\n\u001b[1;32m     30\u001b[0m     \u001b[38;5;66;03m# Loop until the user enters N\u001b[39;00m\n\u001b[1;32m     31\u001b[0m     \u001b[38;5;28;01mwhile\u001b[39;00m \u001b[38;5;28;01mTrue\u001b[39;00m:\n",
      "\u001b[0;31mTypeError\u001b[0m: 'NoneType' object is not an iterator"
     ]
    }
   ],
   "source": [
    "def gen_lines(filepath):\n",
    "    # Line generator: Open the file and yield each line\n",
    "    with open(filepath) as f:\n",
    "        for line in f:\n",
    "            yield line\n",
    "        else: \n",
    "            print(\"That's all the information I have. Visit mind.org.uk to find out more or if you feel like you need help, please contact your GP. \\n Returning to main menu. \")\n",
    "            main()\n",
    "\n",
    "\n",
    "def choose_argument():\n",
    "    # Asks the user to choose an argument and return the right line generator\n",
    "    res = input(\"What can I teach you about today? \\n[a] Facts about mental health \\n[b] Types of mental illnesses \\n[c] Enter X to exit \\n \")\n",
    "    if res.lower() == \"a\":\n",
    "        return gen_lines(\"facts.txt\")\n",
    "    elif res.lower() == \"b\":\n",
    "        return get_type()\n",
    "    elif res.lower() == \"x\":\n",
    "        print(\"For more information, visit mind.org.uk or if you feel like you need help, please contact your GP. \")\n",
    "        return\n",
    "    else:\n",
    "        print(\"I'm sorry, I don't know what you want me to do.\")\n",
    "        return choose_argument()\n",
    "\n",
    "\n",
    "def asking_loop(line_generator):\n",
    "    # Looping the lines asking the user at each step\n",
    "    # Get the first line from the generator\n",
    "    print(next(line_generator))\n",
    "    # Loop until the user enters N\n",
    "    while True:\n",
    "        want_more = input(\"Do you want to know more? \\n[y] Yes \\n[n] No \\n> \")\n",
    "        if want_more.lower() == \"y\":\n",
    "            print(next(line_generator))\n",
    "            continue\n",
    "        elif want_more.lower() == \"n\":\n",
    "            print(\"If you feel like you need help, please contact your GP or visit mind.org.uk for more information. \")\n",
    "            return\n",
    "        else:\n",
    "            print(\"I'm sorry, I don't know what you want me to do.\")\n",
    "            continue\n",
    "\n",
    "def get_type():\n",
    "    res = input(\"I can tell you about the five most common mental health issues. Choose one! \\n Depression \\n Anxiety \\n PTSD \\n Phobias \\n OCD \\n \")\n",
    "    if res.lower() == \"depression\":\n",
    "        return gen_lines(\"depression.txt\")\n",
    "    elif res.lower() == \"anxiety\":\n",
    "        return gen_lines(\"anxiety.txt\")\n",
    "    elif res.lower() == \"ptsd\":\n",
    "        return gen_lines(\"ptsd.txt\")\n",
    "    elif res.lower() == \"phobias\":\n",
    "        return gen_lines(\"phobias.txt\")\n",
    "    elif res.lower() == \"ocd\":\n",
    "        return gen_lines(\"ocd.txt\")\n",
    "    else:\n",
    "        print(\"I'm sorry, I don't know what you want me to do.\")\n",
    "        return get_type()\n",
    "        \n",
    "def main():\n",
    "    # Main function\n",
    "    print(\"Hi there, my name is Well Bot. \")\n",
    "    print(\"My job is to tell people general facts about mental health and different types of mental illnesses. \")\n",
    "    line_generator = choose_argument()\n",
    "    asking_loop(line_generator)\n",
    "\n",
    "\n",
    "if __name__ == \"__main__\":\n",
    "    main()"
   ]
  },
  {
   "cell_type": "code",
   "execution_count": null,
   "id": "4f731903",
   "metadata": {},
   "outputs": [],
   "source": []
  },
  {
   "cell_type": "code",
   "execution_count": null,
   "id": "d1bca2c9",
   "metadata": {},
   "outputs": [],
   "source": []
  }
 ],
 "metadata": {
  "kernelspec": {
   "display_name": "Python 3 (ipykernel)",
   "language": "python",
   "name": "python3"
  },
  "language_info": {
   "codemirror_mode": {
    "name": "ipython",
    "version": 3
   },
   "file_extension": ".py",
   "mimetype": "text/x-python",
   "name": "python",
   "nbconvert_exporter": "python",
   "pygments_lexer": "ipython3",
   "version": "3.9.12"
  }
 },
 "nbformat": 4,
 "nbformat_minor": 5
}
