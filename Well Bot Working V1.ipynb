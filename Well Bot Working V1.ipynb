{
 "cells": [
  {
   "cell_type": "code",
   "execution_count": 1,
   "id": "d2e3878a",
   "metadata": {},
   "outputs": [
    {
     "name": "stdout",
     "output_type": "stream",
     "text": [
      "Hi there, my name is Well Bot. \n",
      "My job is to tell people general facts about mental health and different types of mental illnesses. \n",
      "What can I teach you about today? \n",
      "[a] Facts about mental health \n",
      "[b] Types of mental illnesses \n",
      "> b\n",
      "This is about the first type\n",
      "\n",
      "Do you want to know more? \n",
      "[y] Yes \n",
      "[n] No \n",
      "> n\n",
      "Okay, thanks, bye! \n"
     ]
    }
   ],
   "source": [
    "def gen_lines(filepath):\n",
    "    # Line Generator: Open the file and yield each line\n",
    "    with open(filepath) as f:\n",
    "        for line in f:\n",
    "            yield line\n",
    "\n",
    "\n",
    "def choose_argument():\n",
    "    # Asks the user to choose an argument and return the right line generator\n",
    "    res = input(\"What can I teach you about today? \\n[a] Facts about mental health \\n[b] Types of mental illnesses \\n> \")\n",
    "    if res.lower() == \"a\":\n",
    "        return gen_lines(\"facts.txt\")\n",
    "    elif res.lower() == \"b\":\n",
    "        return gen_lines(\"types.txt\")\n",
    "    else:\n",
    "        print(\"I'm sorry, I don't know what you want me to do.\")\n",
    "        return choose_argument()\n",
    "\n",
    "\n",
    "def asking_loop(line_generator):\n",
    "    # Looping the lines asking the user at each step\n",
    "    # Get the first line from the generator\n",
    "    print(next(line_generator))\n",
    "    # Loop until the user enters N\n",
    "    while True:\n",
    "        want_more = input(\"Do you want to know more? \\n[y] Yes \\n[n] No \\n> \")\n",
    "        if want_more.lower() == \"y\":\n",
    "            print(next(line_generator))\n",
    "            continue\n",
    "        elif want_more.lower() == \"n\":\n",
    "            print(\"Okay, thanks, bye! \")\n",
    "            break\n",
    "        else:\n",
    "            print(\"I'm sorry, I don't know what you want me to do.\")\n",
    "            continue\n",
    "        \n",
    "def main():\n",
    "    # Main function\n",
    "    print(\"Hi there, my name is Well Bot. \")\n",
    "    print(\"My job is to tell people general facts about mental health and different types of mental illnesses. \")\n",
    "    line_generator = choose_argument()\n",
    "    asking_loop(line_generator)\n",
    "\n",
    "\n",
    "if __name__ == \"__main__\":\n",
    "    main()"
   ]
  },
  {
   "cell_type": "code",
   "execution_count": null,
   "id": "5772d599",
   "metadata": {},
   "outputs": [],
   "source": []
  }
 ],
 "metadata": {
  "kernelspec": {
   "display_name": "Python 3 (ipykernel)",
   "language": "python",
   "name": "python3"
  },
  "language_info": {
   "codemirror_mode": {
    "name": "ipython",
    "version": 3
   },
   "file_extension": ".py",
   "mimetype": "text/x-python",
   "name": "python",
   "nbconvert_exporter": "python",
   "pygments_lexer": "ipython3",
   "version": "3.9.12"
  }
 },
 "nbformat": 4,
 "nbformat_minor": 5
}
