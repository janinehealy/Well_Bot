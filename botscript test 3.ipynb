{
 "cells": [
  {
   "cell_type": "code",
   "execution_count": 5,
   "metadata": {},
   "outputs": [
    {
     "name": "stdout",
     "output_type": "stream",
     "text": [
      "Hi there, my name is Well Bot. \n",
      "My job is to tell people general facts about mental health and different types of mental illnesses. \n",
      "What can I teach you about today? \n",
      "[a] Facts \n",
      "[b] Types \n",
      "> a\\\n",
      "Want to know more? Enter Y to continue or N to finish: a\n",
      "Want to know more? Enter Y to continue or N to finish: a\n",
      "Want to know more? Enter Y to continue or N to finish: a\n",
      "Want to know more? Enter Y to continue or N to finish: Y\n"
     ]
    },
    {
     "ename": "UnboundLocalError",
     "evalue": "local variable 'random_line' referenced before assignment",
     "output_type": "error",
     "traceback": [
      "\u001b[0;31m---------------------------------------------------------------------------\u001b[0m",
      "\u001b[0;31mUnboundLocalError\u001b[0m                         Traceback (most recent call last)",
      "Input \u001b[0;32mIn [5]\u001b[0m, in \u001b[0;36m<cell line: 43>\u001b[0;34m()\u001b[0m\n\u001b[1;32m     40\u001b[0m     \u001b[38;5;28;01mreturn\u001b[39;00m get_info()\n\u001b[1;32m     42\u001b[0m \u001b[38;5;66;03m#Call Bot\u001b[39;00m\n\u001b[0;32m---> 43\u001b[0m \u001b[43mwell_bot\u001b[49m\u001b[43m(\u001b[49m\u001b[43m)\u001b[49m\n",
      "Input \u001b[0;32mIn [5]\u001b[0m, in \u001b[0;36mwell_bot\u001b[0;34m()\u001b[0m\n\u001b[1;32m      6\u001b[0m \u001b[38;5;28mprint\u001b[39m(\u001b[38;5;124m\"\u001b[39m\u001b[38;5;124mHi there, my name is Well Bot. \u001b[39m\u001b[38;5;124m\"\u001b[39m)\n\u001b[1;32m      7\u001b[0m \u001b[38;5;28mprint\u001b[39m(\u001b[38;5;124m\"\u001b[39m\u001b[38;5;124mMy job is to tell people general facts about mental health and different types of mental illnesses. \u001b[39m\u001b[38;5;124m\"\u001b[39m)\n\u001b[0;32m---> 10\u001b[0m info \u001b[38;5;241m=\u001b[39m \u001b[43mget_info\u001b[49m\u001b[43m(\u001b[49m\u001b[43m)\u001b[49m\n\u001b[1;32m     11\u001b[0m \u001b[38;5;28mprint\u001b[39m(info)\n",
      "Input \u001b[0;32mIn [5]\u001b[0m, in \u001b[0;36mget_info\u001b[0;34m()\u001b[0m\n\u001b[1;32m     26\u001b[0m \u001b[38;5;28;01mwhile\u001b[39;00m \u001b[38;5;28;01mTrue\u001b[39;00m:\n\u001b[1;32m     27\u001b[0m     \u001b[38;5;28;01mif\u001b[39;00m \u001b[38;5;28minput\u001b[39m(\u001b[38;5;124m\"\u001b[39m\u001b[38;5;124mWant to know more? Enter Y to continue or N to finish: \u001b[39m\u001b[38;5;124m\"\u001b[39m) \u001b[38;5;241m==\u001b[39m \u001b[38;5;124m\"\u001b[39m\u001b[38;5;124mY\u001b[39m\u001b[38;5;124m\"\u001b[39m:\n\u001b[0;32m---> 28\u001b[0m         \u001b[38;5;28;01mreturn\u001b[39;00m \u001b[43mrandom_line\u001b[49m\n\u001b[1;32m     29\u001b[0m     \u001b[38;5;28;01melif\u001b[39;00m res \u001b[38;5;241m==\u001b[39m \u001b[38;5;124m\"\u001b[39m\u001b[38;5;124mb\u001b[39m\u001b[38;5;124m\"\u001b[39m:\n\u001b[1;32m     30\u001b[0m         \u001b[38;5;28;01mreturn\u001b[39;00m \u001b[38;5;124m\"\u001b[39m\u001b[38;5;124mOkay, I can tell you about two different mental illnesses: \u001b[39m\u001b[38;5;130;01m\\n\u001b[39;00m\u001b[38;5;124m[1] Depression \u001b[39m\u001b[38;5;130;01m\\n\u001b[39;00m\u001b[38;5;124m[2] Bipolar Disorder \u001b[39m\u001b[38;5;130;01m\\n\u001b[39;00m\u001b[38;5;124m> \u001b[39m\u001b[38;5;124m\"\u001b[39m\n",
      "\u001b[0;31mUnboundLocalError\u001b[0m: local variable 'random_line' referenced before assignment"
     ]
    }
   ],
   "source": [
    "import random\n",
    "import sys\n",
    "\n",
    "# Defining functions\n",
    "def well_bot():\n",
    "    print(\"Hi there, my name is Well Bot. \")\n",
    "    print(\"My job is to tell people general facts about mental health and different types of mental illnesses. \")\n",
    "    \n",
    "    \n",
    "    info = get_info()\n",
    "    print(info)\n",
    "\n",
    "\n",
    "    #var to read from illnesses text file\n",
    "\n",
    "\n",
    "def get_info():\n",
    "    res = input(\"What can I teach you about today? \\n[a] Facts \\n[b] Types \\n> \")\n",
    "\n",
    "    if res == \"a\":\n",
    "        print (\"Okay. I will give you some general facts about mental health. \")\n",
    "        with open('facts.txt') as facts:\n",
    "            lines = facts.readlines()\n",
    "            random_line = random.choice(lines)\n",
    "        return random_line\n",
    "    while True:\n",
    "        if input(\"Want to know more? Enter Y to continue or N to finish: \") == \"Y\":\n",
    "            return random_line\n",
    "        elif res == \"b\":\n",
    "            return \"Okay, I can tell you about two different mental illnesses: \\n[1] Depression \\n[2] Bipolar Disorder \\n> \"\n",
    "    # if they select 1, give info about depression. if they select 2, give info about bipolar etc \n",
    "    else:\n",
    "        print_sorry()\n",
    "        return get_info()\n",
    "    \n",
    "\n",
    "\n",
    "def print_sorry():\n",
    "    print(\"I'm sorry, I didn't quite get that. Can you choose again? \")\n",
    "    return get_info()\n",
    "\n",
    "#Call Bot\n",
    "well_bot()\n",
    "\n"
   ]
  },
  {
   "cell_type": "code",
   "execution_count": null,
   "metadata": {},
   "outputs": [],
   "source": []
  },
  {
   "cell_type": "code",
   "execution_count": null,
   "metadata": {},
   "outputs": [],
   "source": []
  }
 ],
 "metadata": {
  "interpreter": {
   "hash": "b0fa6594d8f4cbf19f97940f81e996739fb7646882a419484c72d19e05852a7e"
  },
  "kernelspec": {
   "display_name": "Python 3 (ipykernel)",
   "language": "python",
   "name": "python3"
  },
  "language_info": {
   "codemirror_mode": {
    "name": "ipython",
    "version": 3
   },
   "file_extension": ".py",
   "mimetype": "text/x-python",
   "name": "python",
   "nbconvert_exporter": "python",
   "pygments_lexer": "ipython3",
   "version": "3.9.12"
  }
 },
 "nbformat": 4,
 "nbformat_minor": 2
}
