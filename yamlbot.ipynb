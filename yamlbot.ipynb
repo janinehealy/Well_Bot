{
 "cells": [
  {
   "cell_type": "code",
   "execution_count": 1,
   "metadata": {},
   "outputs": [
    {
     "ename": "ModuleNotFoundError",
     "evalue": "No module named 'yaml'",
     "output_type": "error",
     "traceback": [
      "\u001b[0;31m---------------------------------------------------------------------------\u001b[0m",
      "\u001b[0;31mModuleNotFoundError\u001b[0m                       Traceback (most recent call last)",
      "\u001b[1;32m/Users/janinehealy/OneDrive - University of Roehampton/+ MSc Project/CODE/Well_Bot/yamlbot.ipynb Cell 1'\u001b[0m in \u001b[0;36m<module>\u001b[0;34m\u001b[0m\n\u001b[0;32m----> <a href='vscode-notebook-cell:/Users/janinehealy/OneDrive%20-%20University%20of%20Roehampton/%2B%20MSc%20Project/CODE/Well_Bot/yamlbot.ipynb#ch0000000?line=0'>1</a>\u001b[0m \u001b[39mimport\u001b[39;00m \u001b[39myaml\u001b[39;00m\n",
      "\u001b[0;31mModuleNotFoundError\u001b[0m: No module named 'yaml'"
     ]
    }
   ],
   "source": [
    "import yaml"
   ]
  },
  {
   "cell_type": "code",
   "execution_count": null,
   "metadata": {},
   "outputs": [],
   "source": [
    "# Returns the topics about which you have some facts ie. the keys of the facts dict from the yaml file\n",
    "# You can use this to print out to your user the valid options and also keep track of which topics your user has read\n",
    "def get_topics() :\n",
    "        with open('facts.yaml') as facts:\n",
    "            facts = yaml.load(facts, Loader=yaml.FullLoader)\n",
    "            return facts['facts'].keys()"
   ]
  },
  {
   "cell_type": "code",
   "execution_count": null,
   "metadata": {},
   "outputs": [],
   "source": [
    "#Lets reformat your facts into YAML, which is easy to read and write for humans and also machines\n",
    "#As its structured, you can then read its contents into a dict and access the text parts that you want.\n",
    "def get_info(input):\n",
    "    with open('facts.yaml') as facts:\n",
    "        facts = yaml.load(facts, Loader=yaml.FullLoader)\n",
    "        # facts is a dict, you can return the parts you want treating it as any other kind of data structure\n",
    "        return facts['facts'][input]"
   ]
  },
  {
   "cell_type": "code",
   "execution_count": null,
   "metadata": {},
   "outputs": [
    {
     "name": "stdout",
     "output_type": "stream",
     "text": [
      "Hi there, my name is Well Bot. \n",
      "My job is to tell people general facts about mental health and different types of mental illnesses. \n",
      "What can I tell you about today? \n",
      "You can choose from depression, bipolar disorder, anxiety etc. anxiety\n",
      "Anxiety is what we feel when we are worried, tense or afraid – particularly about things that are about to happen, or which we think could happen in the future. \n",
      " Anxiety is a natural human response when we feel that we are under threat. It can be experienced through our thoughts, feelings and physical sensations.\n",
      "What can I tell you about today? \n",
      "You can choose from depression, bipolar disorder, anxiety etc. depression\n",
      "This is the text on depression\n"
     ]
    }
   ],
   "source": [
    "# You could use the topics for your user message and to keep track of what the user already read\n",
    "topics = get_topics();\n",
    "# Lets get all the info from the user upfront\n",
    "print(\"Hi there, my name is Well Bot. \")\n",
    "print(\"My job is to tell people general facts about mental health and different types of mental illnesses. \")\n",
    "while True:\n",
    "# You could use the get_topics array here to generate a valid list of topics, maybe omitting ones the user already read\n",
    "    user_choice = input(\"What can I tell you about today? \\nYou can choose from depression, bipolar disorder, anxiety etc. \")\n",
    "    print(get_info(user_choice))\n",
    "    \n"
   ]
  },
  {
   "cell_type": "code",
   "execution_count": null,
   "metadata": {},
   "outputs": [],
   "source": []
  },
  {
   "cell_type": "code",
   "execution_count": null,
   "metadata": {},
   "outputs": [],
   "source": [
    "\n"
   ]
  },
  {
   "cell_type": "code",
   "execution_count": null,
   "metadata": {},
   "outputs": [],
   "source": [
    "\n"
   ]
  },
  {
   "cell_type": "code",
   "execution_count": null,
   "metadata": {},
   "outputs": [],
   "source": []
  },
  {
   "cell_type": "code",
   "execution_count": null,
   "metadata": {},
   "outputs": [],
   "source": [
    "\n"
   ]
  },
  {
   "cell_type": "code",
   "execution_count": null,
   "metadata": {},
   "outputs": [],
   "source": [
    ")"
   ]
  },
  {
   "cell_type": "code",
   "execution_count": null,
   "metadata": {},
   "outputs": [],
   "source": []
  },
  {
   "cell_type": "code",
   "execution_count": null,
   "metadata": {},
   "outputs": [],
   "source": []
  }
 ],
 "metadata": {
  "kernelspec": {
   "display_name": "Python 3",
   "language": "python",
   "name": "python3"
  },
  "language_info": {
   "codemirror_mode": {
    "name": "ipython",
    "version": 3
   },
   "file_extension": ".py",
   "mimetype": "text/x-python",
   "name": "python",
   "nbconvert_exporter": "python",
   "pygments_lexer": "ipython3",
   "version": "3.8.9"
  }
 },
 "nbformat": 4,
 "nbformat_minor": 4
}
