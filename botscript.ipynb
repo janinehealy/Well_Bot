{
 "cells": [
  {
   "cell_type": "code",
   "execution_count": 3,
   "metadata": {},
   "outputs": [
    {
     "name": "stdout",
     "output_type": "stream",
     "text": [
      "Hi there, my name is Well Bot. \n",
      "My job is to tell people general facts about mental health and different types of mental illnesses. \n",
      "Okay, I can tell you about five different mental illnesses: \n",
      "[1] Depression \n",
      "[2] Bipolar Disorder \n",
      "> \n",
      "Mental health problems are probably more common than you think. Approximately 1 in 4 people in the UK will experience one each year.\n",
      "\n",
      "Okay, thanks, bye! \n",
      "None\n"
     ]
    }
   ],
   "source": [
    "# Defining functions\n",
    "def well_bot():\n",
    "    print(\"Hi there, my name is Well Bot. \")\n",
    "    print(\"My job is to tell people general facts about mental health and different types of mental illnesses. \")\n",
    "    \n",
    "    info = get_info()\n",
    "    print(info)\n",
    "    \n",
    "    #this should only print if they want a fact\n",
    "    getfact = print_facts()\n",
    "    print(getfact)\n",
    "\n",
    "    #var to read from illnesses text file\n",
    "\n",
    "\n",
    "def get_info():\n",
    "    res = input(\"What can I teach you about today? \\n[a] Facts \\n[b] Types \\n> \")\n",
    "\n",
    "    if res == \"a\":\n",
    "        print (\"Okay. I will give you some general facts about mental health. \")\n",
    "        return print_facts()\n",
    "\n",
    "    elif res == \"b\":\n",
    "        return \"Okay, I can tell you about five different mental illnesses: \\n[1] Depression \\n[2] Bipolar Disorder \\n> \"\n",
    "    # if they select 1, give info about depression. if they select 2, give info about bipolar, etc.\n",
    "\n",
    "    else:\n",
    "        print_message()\n",
    "        return get_info()\n",
    "\n",
    "        \n",
    "# Ask which type of illness user wants information about        \n",
    "type = input(\"You can choose from depression, bipolar disorder, anxiety etc. \")\n",
    "if \"depression\" in type:\n",
    "    print(\"This is the information about depression. \")\n",
    "elif \"bipolar\" in type:\n",
    "    print(\"This is the info about bipolar. \")\n",
    "elif \"anxiety\" in type:\n",
    "    print(\"This is the info about anxiety. \")\n",
    "else:\n",
    "    print(\"Please choose something else. \")\n",
    "\n",
    "# After giving a fact, ask if they want more\n",
    "def continue_ask():\n",
    "    while True:\n",
    "        if input(\"Want to know more? Enter Y to continue or N to finish: \") != \"Y\":\n",
    "            print(\"Okay, thanks, bye! \")\n",
    "            break \n",
    "\n",
    "# Function to read from the facts file and ask if they wish to continue\n",
    "def print_facts():\n",
    "    with open('facts.txt') as facts:\n",
    "        next_fact = facts.readline()\n",
    "        print (next_fact)\n",
    "        return continue_ask()\n",
    "\n",
    "# This is going to be a list of facts and the code will grab a fact from 1-10 in the list. Finding out how. First example belowy\n",
    "#def get_fact():\n",
    "#    with open('facts.txt') as facts:\n",
    "#        next_fact = facts.readline()\n",
    "#        print(next_fact)\n",
    "\n",
    "# If bot does not understand, will ask for another response\n",
    "def print_message():\n",
    "    print(\"I'm sorry, I didn't quite get that. Can you choose again? \")\n",
    "    return get_info()\n",
    "\n",
    "#Call Bot\n",
    "well_bot()\n",
    "\n"
   ]
  },
  {
   "cell_type": "code",
   "execution_count": null,
   "metadata": {},
   "outputs": [],
   "source": []
  },
  {
   "cell_type": "code",
   "execution_count": null,
   "metadata": {},
   "outputs": [],
   "source": []
  }
 ],
 "metadata": {
  "interpreter": {
   "hash": "b0fa6594d8f4cbf19f97940f81e996739fb7646882a419484c72d19e05852a7e"
  },
  "kernelspec": {
   "display_name": "Python 3.9.10 64-bit",
   "language": "python",
   "name": "python3"
  },
  "language_info": {
   "codemirror_mode": {
    "name": "ipython",
    "version": 3
   },
   "file_extension": ".py",
   "mimetype": "text/x-python",
   "name": "python",
   "nbconvert_exporter": "python",
   "pygments_lexer": "ipython3",
   "version": "3.9.10"
  },
  "orig_nbformat": 4
 },
 "nbformat": 4,
 "nbformat_minor": 2
}
