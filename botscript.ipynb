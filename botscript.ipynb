{
 "cells": [
  {
   "cell_type": "code",
   "execution_count": 1,
   "metadata": {},
   "outputs": [
    {
     "ename": "NameError",
     "evalue": "name 'info' is not defined",
     "output_type": "error",
     "traceback": [
      "\u001b[0;31m---------------------------------------------------------------------------\u001b[0m",
      "\u001b[0;31mNameError\u001b[0m                                 Traceback (most recent call last)",
      "\u001b[1;32m/Users/janinehealy/OneDrive - University of Roehampton/+ MSc Project/CODE/Well_Bot/botscript.ipynb Cell 1'\u001b[0m in \u001b[0;36m<cell line: 34>\u001b[0;34m()\u001b[0m\n\u001b[1;32m     <a href='vscode-notebook-cell:/Users/janinehealy/OneDrive%20-%20University%20of%20Roehampton/%2B%20MSc%20Project/CODE/Well_Bot/botscript.ipynb#ch0000000?line=31'>32</a>\u001b[0m \u001b[39mdef\u001b[39;00m \u001b[39mget_info\u001b[39m():   \n\u001b[1;32m     <a href='vscode-notebook-cell:/Users/janinehealy/OneDrive%20-%20University%20of%20Roehampton/%2B%20MSc%20Project/CODE/Well_Bot/botscript.ipynb#ch0000000?line=32'>33</a>\u001b[0m     info \u001b[39m=\u001b[39m \u001b[39minput\u001b[39m(\u001b[39m\"\u001b[39m\u001b[39mWhat can I tell you about today? \u001b[39m\u001b[39m\\n\u001b[39;00m\u001b[39mYou can choose from depression, bipolar disorder, anxiety etc. \u001b[39m\u001b[39m\"\u001b[39m)\n\u001b[0;32m---> <a href='vscode-notebook-cell:/Users/janinehealy/OneDrive%20-%20University%20of%20Roehampton/%2B%20MSc%20Project/CODE/Well_Bot/botscript.ipynb#ch0000000?line=33'>34</a>\u001b[0m \u001b[39mif\u001b[39;00m \u001b[39m\"\u001b[39m\u001b[39mdepression\u001b[39m\u001b[39m\"\u001b[39m \u001b[39min\u001b[39;00m info:\n\u001b[1;32m     <a href='vscode-notebook-cell:/Users/janinehealy/OneDrive%20-%20University%20of%20Roehampton/%2B%20MSc%20Project/CODE/Well_Bot/botscript.ipynb#ch0000000?line=34'>35</a>\u001b[0m     \u001b[39mprint\u001b[39m(\u001b[39m\"\u001b[39m\u001b[39mThis is the information about depression. \u001b[39m\u001b[39m\"\u001b[39m)\n\u001b[1;32m     <a href='vscode-notebook-cell:/Users/janinehealy/OneDrive%20-%20University%20of%20Roehampton/%2B%20MSc%20Project/CODE/Well_Bot/botscript.ipynb#ch0000000?line=35'>36</a>\u001b[0m \u001b[39melif\u001b[39;00m \u001b[39m\"\u001b[39m\u001b[39mbipolar\u001b[39m\u001b[39m\"\u001b[39m \u001b[39min\u001b[39;00m info:\n",
      "\u001b[0;31mNameError\u001b[0m: name 'info' is not defined"
     ]
    }
   ],
   "source": [
    "# Defining functions\n",
    "def well_bot():\n",
    "    print(\"Hi there, my name is Well Bot. \")\n",
    "    print(\"My job is to tell people general facts about mental health and different types of mental illnesses. \")\n",
    "    \n",
    "    info = get_info()\n",
    "    print(info)\n",
    "    \n",
    "    #this should only print if they want a fact\n",
    "    getfact = print_facts()\n",
    "    print(getfact)\n",
    "\n",
    "    #var to read from illnesses text file\n",
    "\n",
    "# VERSION 1\n",
    "# def get_info():\n",
    "#    res = input(\"What can I tell you about today? \\n[a] Facts \\n[b] Types \\n> \")\n",
    "#\n",
    "#    if res == \"a\":\n",
    "#        print (\"Okay. I will give you some general facts about mental health. \")\n",
    "#       return print_facts()\n",
    "#   elif res == \"b\":\n",
    "#        return \"Okay, I can tell you about five different mental illnesses: \\n[1] Depression \\n[2] Bipolar Disorder \\n> \"\n",
    "#    # if they select 1, give info about depression. if they select 2, give info about bipolar, etc.\n",
    "#\n",
    "#    else:\n",
    "#        print_message()\n",
    "#        return get_info()\n",
    "\n",
    "        \n",
    "# Ask which type of illness user wants information about \n",
    "def get_info():   \n",
    "    user_choice = input(\"What can I tell you about today? \\nYou can choose from depression, bipolar disorder, anxiety etc. \")\n",
    "if \"depression\" in user_choice:\n",
    "    print(\"This is the information about depression. \")\n",
    "elif \"bipolar\" in user_choice:\n",
    "    print(\"This is the info about bipolar. \")\n",
    "elif \"anxiety\" in user_choice:\n",
    "    print(\"This is the info about anxiety. \")\n",
    "else:\n",
    "    print(\"Please choose something else. \")\n",
    "\n",
    "# After giving a fact, ask if they want more\n",
    "def continue_ask():\n",
    "    while True:\n",
    "        if input(\"Want to know more? Enter Y to continue or N to finish: \") != \"Y\":\n",
    "            print(\"Okay, thanks, bye! \")\n",
    "            break \n",
    "\n",
    "# Function to read from the facts file and ask if they wish to continue\n",
    "def print_facts():\n",
    "    with open('facts.txt') as facts:\n",
    "        next_fact = facts.readline()\n",
    "        print (next_fact)\n",
    "        return continue_ask()\n",
    "\n",
    "# This is going to be a list of facts and the code will grab a fact from 1-10 in the list. Finding out how. First example belowy\n",
    "#def get_fact():\n",
    "#    with open('facts.txt') as facts:\n",
    "#        next_fact = facts.readline()\n",
    "#        print(next_fact)\n",
    "\n",
    "# If bot does not understand, will ask for another response\n",
    "def print_message():\n",
    "    print(\"I'm sorry, I didn't quite get that. Can you choose again? \")\n",
    "    return get_info()\n",
    "\n",
    "#Call Bot\n",
    "well_bot()\n",
    "\n"
   ]
  },
  {
   "cell_type": "code",
   "execution_count": null,
   "metadata": {},
   "outputs": [],
   "source": []
  },
  {
   "cell_type": "code",
   "execution_count": null,
   "metadata": {},
   "outputs": [],
   "source": []
  }
 ],
 "metadata": {
  "interpreter": {
   "hash": "b0fa6594d8f4cbf19f97940f81e996739fb7646882a419484c72d19e05852a7e"
  },
  "kernelspec": {
   "display_name": "Python 3.9.10 64-bit",
   "language": "python",
   "name": "python3"
  },
  "language_info": {
   "codemirror_mode": {
    "name": "ipython",
    "version": 3
   },
   "file_extension": ".py",
   "mimetype": "text/x-python",
   "name": "python",
   "nbconvert_exporter": "python",
   "pygments_lexer": "ipython3",
   "version": "3.9.10"
  },
  "orig_nbformat": 4
 },
 "nbformat": 4,
 "nbformat_minor": 2
}
