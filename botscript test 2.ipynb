{
 "cells": [
  {
   "cell_type": "code",
   "execution_count": 3,
   "metadata": {},
   "outputs": [
    {
     "name": "stdout",
     "output_type": "stream",
     "text": [
      "Hi there, my name is Well Bot. \n",
      "My job is to tell people general facts about mental health and different types of mental illnesses. \n",
      "What can I teach you about today? \n",
      "[a] Facts \n",
      "[b] Types \n",
      "> b\n",
      "I can tell you about the five most common mental health issues. Choose one! \n",
      " Depression \n",
      " Anxiety \n",
      " PTSD \n",
      " Phobias \n",
      " OCD \n",
      "Depression\n",
      "None\n"
     ]
    }
   ],
   "source": [
    "# Defining functions\n",
    "def well_bot():\n",
    "    print(\"Hi there, my name is Well Bot. \")\n",
    "    print(\"My job is to tell people general facts about mental health and different types of mental illnesses. \")\n",
    "    \n",
    "    \n",
    "    info = get_info()\n",
    "    print(info)\n",
    "\n",
    "\n",
    "    #var to read from illnesses text file\n",
    "\n",
    "\n",
    "def get_info():\n",
    "    res = input(\"What can I teach you about today? \\n[a] Facts \\n[b] Types \\n> \")\n",
    "\n",
    "    if res == \"a\":\n",
    "        print (\"Okay. I will give you some general facts about mental health. \")\n",
    "        with open('facts.txt') as facts:\n",
    "            next_fact = facts.readline()\n",
    "            print (next_fact)\n",
    "            if input(\"Want to know more? Enter Y to continue or N to finish: \") == \"Y\":\n",
    "                print(next_fact)\n",
    "            else:\n",
    "                print (\"Okay, thanks, bye! \")\n",
    "            \n",
    "    \n",
    "    elif res == \"b\":\n",
    "        return get_type()\n",
    "    else:\n",
    "        print_sorry()\n",
    "        return get_info()\n",
    "    \n",
    "def get_type():\n",
    "    res = input(\"I can tell you about the five most common mental health issues. Choose one! \\n Depression \\n Anxiety \\n PTSD \\n Phobias \\n OCD \\n\")\n",
    "    if res.lower == \"depression\":\n",
    "        f = open(\"depression.txt\", \"r\")\n",
    "        print(f.readlines())\n",
    "\n",
    "def print_sorry():\n",
    "    print(\"I'm sorry, I didn't quite get that. Can you choose again? \")\n",
    "    return get_info()\n",
    "\n",
    "#Call Bot\n",
    "well_bot()\n",
    "\n"
   ]
  },
  {
   "cell_type": "code",
   "execution_count": null,
   "metadata": {},
   "outputs": [],
   "source": []
  },
  {
   "cell_type": "code",
   "execution_count": null,
   "metadata": {},
   "outputs": [],
   "source": []
  }
 ],
 "metadata": {
  "interpreter": {
   "hash": "b0fa6594d8f4cbf19f97940f81e996739fb7646882a419484c72d19e05852a7e"
  },
  "kernelspec": {
   "display_name": "Python 3 (ipykernel)",
   "language": "python",
   "name": "python3"
  },
  "language_info": {
   "codemirror_mode": {
    "name": "ipython",
    "version": 3
   },
   "file_extension": ".py",
   "mimetype": "text/x-python",
   "name": "python",
   "nbconvert_exporter": "python",
   "pygments_lexer": "ipython3",
   "version": "3.9.12"
  }
 },
 "nbformat": 4,
 "nbformat_minor": 2
}
